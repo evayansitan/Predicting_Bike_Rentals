{
 "cells": [
  {
   "cell_type": "code",
   "execution_count": 1,
   "metadata": {},
   "outputs": [
    {
     "name": "stdout",
     "output_type": "stream",
     "text": [
      "(17379, 17)\n",
      "   instant      dteday  season  yr  mnth  hr  holiday  weekday  workingday  \\\n",
      "0        1  2011-01-01       1   0     1   0        0        6           0   \n",
      "1        2  2011-01-01       1   0     1   1        0        6           0   \n",
      "2        3  2011-01-01       1   0     1   2        0        6           0   \n",
      "3        4  2011-01-01       1   0     1   3        0        6           0   \n",
      "4        5  2011-01-01       1   0     1   4        0        6           0   \n",
      "\n",
      "   weathersit  temp   atemp   hum  windspeed  casual  registered  cnt  \n",
      "0           1  0.24  0.2879  0.81        0.0       3          13   16  \n",
      "1           1  0.22  0.2727  0.80        0.0       8          32   40  \n",
      "2           1  0.22  0.2727  0.80        0.0       5          27   32  \n",
      "3           1  0.24  0.2879  0.75        0.0       3          10   13  \n",
      "4           1  0.24  0.2879  0.75        0.0       0           1    1  \n"
     ]
    }
   ],
   "source": [
    "import pandas as pd\n",
    "\n",
    "bike_rentals = pd.read_csv('bike_rental_hour.csv')\n",
    "print(bike_rentals.shape)\n",
    "print(bike_rentals.head())"
   ]
  },
  {
   "cell_type": "code",
   "execution_count": 2,
   "metadata": {},
   "outputs": [
    {
     "data": {
      "text/plain": [
       "dtype('O')"
      ]
     },
     "execution_count": 2,
     "metadata": {},
     "output_type": "execute_result"
    }
   ],
   "source": [
    "bike_rentals['dteday'].dtype"
   ]
  },
  {
   "cell_type": "code",
   "execution_count": 3,
   "metadata": {},
   "outputs": [
    {
     "data": {
      "text/plain": [
       "<matplotlib.axes._subplots.AxesSubplot at 0x119ddbe10>"
      ]
     },
     "execution_count": 3,
     "metadata": {},
     "output_type": "execute_result"
    },
    {
     "data": {
      "image/png": "[encoded data removed]",
      "text/plain": [
       "<Figure size 432x288 with 1 Axes>"
      ]
     },
     "metadata": {
      "needs_background": "light"
     },
     "output_type": "display_data"
    }
   ],
   "source": [
    "%matplotlib inline\n",
    "bike_rentals['cnt'].hist()"
   ]
  },
  {
   "cell_type": "code",
   "execution_count": 4,
   "metadata": {},
   "outputs": [
    {
     "name": "stdout",
     "output_type": "stream",
     "text": [
      "(17379, 17) 0     726\n",
      "1     724\n",
      "2     715\n",
      "3     697\n",
      "4     697\n",
      "5     717\n",
      "6     725\n",
      "7     727\n",
      "8     727\n",
      "9     727\n",
      "10    727\n",
      "11    727\n",
      "12    728\n",
      "13    729\n",
      "14    729\n",
      "15    729\n",
      "16    730\n",
      "17    730\n",
      "18    728\n",
      "19    728\n",
      "20    728\n",
      "21    728\n",
      "22    728\n",
      "23    728\n",
      "Name: hr, dtype: int64\n",
      "    hr  time_label\n",
      "0    0           4\n",
      "1    1           4\n",
      "2    2           4\n",
      "3    3           4\n",
      "4    4           4\n",
      "5    5           4\n",
      "6    6           1\n",
      "7    7           1\n",
      "8    8           1\n",
      "9    9           1\n",
      "10  10           1\n",
      "11  11           1\n",
      "12  12           2\n",
      "13  13           2\n",
      "14  14           2\n",
      "15  15           2\n",
      "16  16           2\n",
      "17  17           2\n",
      "18  18           3\n",
      "19  19           3\n",
      "20  20           3\n",
      "21  21           3\n",
      "22  22           3\n",
      "23  23           3\n",
      "24   0           4\n"
     ]
    }
   ],
   "source": [
    "print(bike_rentals.shape, bike_rentals['hr'].value_counts().sort_index())\n",
    "\n",
    "def assign_label(x):\n",
    "    d = {range(6, 12): 1, range(12, 18): 2, range(18, 24): 3, range(0, 6): 4}\n",
    "    for i, j in d.items():\n",
    "        if x in i:\n",
    "            val = j\n",
    "    return val\n",
    "\n",
    "bike_rentals['time_label'] = bike_rentals['hr'].apply(assign_label)\n",
    "print(bike_rentals[['hr', 'time_label']].head(25))"
   ]
  },
  {
   "cell_type": "code",
   "execution_count": 5,
   "metadata": {},
   "outputs": [
    {
     "name": "stdout",
     "output_type": "stream",
     "text": [
      "(17379, 18)\n",
      "             instant    season        yr      mnth        hr   holiday  \\\n",
      "instant     1.000000  0.404046  0.866014  0.489164  0.004775  0.014723   \n",
      "season      0.404046  1.000000  0.010742  0.830386  0.006117  0.009585   \n",
      "yr          0.866014  0.010742  1.000000  0.010473  0.003867  0.006692   \n",
      "mnth        0.489164  0.830386  0.010473  1.000000  0.005772  0.018430   \n",
      "hr          0.004775  0.006117  0.003867  0.005772  1.000000  0.000479   \n",
      "holiday     0.014723  0.009585  0.006692  0.018430  0.000479  1.000000   \n",
      "weekday     0.001357  0.002335  0.004485  0.010400  0.003498  0.102088   \n",
      "workingday  0.003416  0.013743  0.002196  0.003477  0.002285  0.252471   \n",
      "weathersit  0.014198  0.014524  0.019157  0.005400  0.020203  0.017036   \n",
      "temp        0.136178  0.312025  0.040913  0.201691  0.137603  0.027340   \n",
      "atemp       0.137615  0.319380  0.039222  0.208096  0.133750  0.030973   \n",
      "hum         0.009577  0.150625  0.083546  0.164411  0.276498  0.010588   \n",
      "windspeed   0.074505  0.149773  0.008740  0.135386  0.137252  0.003988   \n",
      "casual      0.158295  0.120206  0.142779  0.068457  0.301202  0.031564   \n",
      "registered  0.282046  0.174226  0.253684  0.122273  0.374141  0.047345   \n",
      "cnt         0.278379  0.178056  0.250495  0.120638  0.394071  0.030927   \n",
      "time_label  0.006705  0.006617  0.004755  0.005786  0.187486  0.000702   \n",
      "\n",
      "             weekday  workingday  weathersit      temp     atemp       hum  \\\n",
      "instant     0.001357    0.003416    0.014198  0.136178  0.137615  0.009577   \n",
      "season      0.002335    0.013743    0.014524  0.312025  0.319380  0.150625   \n",
      "yr          0.004485    0.002196    0.019157  0.040913  0.039222  0.083546   \n",
      "mnth        0.010400    0.003477    0.005400  0.201691  0.208096  0.164411   \n",
      "hr          0.003498    0.002285    0.020203  0.137603  0.133750  0.276498   \n",
      "holiday     0.102088    0.252471    0.017036  0.027340  0.030973  0.010588   \n",
      "weekday     1.000000    0.035955    0.003311  0.001795  0.008821  0.037158   \n",
      "workingday  0.035955    1.000000    0.044672  0.055390  0.054667  0.015688   \n",
      "weathersit  0.003311    0.044672    1.000000  0.102640  0.105563  0.418130   \n",
      "temp        0.001795    0.055390    0.102640  1.000000  0.987672  0.069881   \n",
      "atemp       0.008821    0.054667    0.105563  0.987672  1.000000  0.051918   \n",
      "hum         0.037158    0.015688    0.418130  0.069881  0.051918  1.000000   \n",
      "windspeed   0.011502    0.011830    0.026226  0.023125  0.062336  0.290105   \n",
      "casual      0.032721    0.300942    0.152628  0.459616  0.454080  0.347028   \n",
      "registered  0.021578    0.134326    0.120966  0.335361  0.332559  0.273933   \n",
      "cnt         0.026900    0.030284    0.142426  0.404772  0.400929  0.322911   \n",
      "time_label  0.002173    0.000897    0.035784  0.061551  0.057494  0.144593   \n",
      "\n",
      "            windspeed    casual  registered       cnt  time_label  \n",
      "instant      0.074505  0.158295    0.282046  0.278379    0.006705  \n",
      "season       0.149773  0.120206    0.174226  0.178056    0.006617  \n",
      "yr           0.008740  0.142779    0.253684  0.250495    0.004755  \n",
      "mnth         0.135386  0.068457    0.122273  0.120638    0.005786  \n",
      "hr           0.137252  0.301202    0.374141  0.394071    0.187486  \n",
      "holiday      0.003988  0.031564    0.047345  0.030927    0.000702  \n",
      "weekday      0.011502  0.032721    0.021578  0.026900    0.002173  \n",
      "workingday   0.011830  0.300942    0.134326  0.030284    0.000897  \n",
      "weathersit   0.026226  0.152628    0.120966  0.142426    0.035784  \n",
      "temp         0.023125  0.459616    0.335361  0.404772    0.061551  \n",
      "atemp        0.062336  0.454080    0.332559  0.400929    0.057494  \n",
      "hum          0.290105  0.347028    0.273933  0.322911    0.144593  \n",
      "windspeed    1.000000  0.090287    0.082321  0.093234    0.109462  \n",
      "casual       0.090287  1.000000    0.506618  0.694564    0.250076  \n",
      "registered   0.082321  0.506618    1.000000  0.972151    0.371916  \n",
      "cnt          0.093234  0.694564    0.972151  1.000000    0.378318  \n",
      "time_label   0.109462  0.250076    0.371916  0.378318    1.000000  \n"
     ]
    },
    {
     "data": {
      "text/plain": [
       "<matplotlib.axes._subplots.AxesSubplot at 0x1a1c3b00b8>"
      ]
     },
     "execution_count": 5,
     "metadata": {},
     "output_type": "execute_result"
    },
    {
     "data": {
      "image/png": "[encoded data removed]",
      "text/plain": [
       "<Figure size 432x288 with 2 Axes>"
      ]
     },
     "metadata": {
      "needs_background": "light"
     },
     "output_type": "display_data"
    }
   ],
   "source": [
    "print(bike_rentals.shape)\n",
    "print(bike_rentals.corr().abs())\n",
    "corr = bike_rentals.corr()['cnt'].abs()\n",
    "str_corr = corr[corr>0.1].index\n",
    "\n",
    "import seaborn as sns\n",
    "corrmat = bike_rentals[str_corr].corr().abs()\n",
    "sns.heatmap(corrmat)"
   ]
  },
  {
   "cell_type": "markdown",
   "metadata": {},
   "source": [
    "Those pairs of features have strong corelation to each other: instant vs. year; month vs. season; atemp vs. temp. We will exclude instant and keep year, exclude season and include month, and we will keep temp and exclude adjusted atemp. We are also going to exclude casual and registered."
   ]
  },
  {
   "cell_type": "code",
   "execution_count": 6,
   "metadata": {},
   "outputs": [
    {
     "name": "stdout",
     "output_type": "stream",
     "text": [
      "cnt           0.034539\n",
      "hum           0.037222\n",
      "temp          0.038607\n",
      "weathersit    0.045420\n",
      "hr            0.090376\n",
      "mnth          0.097729\n",
      "time_label    0.138207\n",
      "yr            0.250008\n",
      "dtype: float64\n"
     ]
    }
   ],
   "source": [
    "data_clean = bike_rentals[str_corr].drop(['instant','season','atemp','casual', 'registered'], axis = 1)\n",
    "##['instant','season','atemp',\n",
    "data_rescale = (data_clean-data_clean.min())/(data_clean.max() - data_clean.min())\n",
    "sorted_vars = data_rescale.var().sort_values()\n",
    "print(sorted_vars)"
   ]
  },
  {
   "cell_type": "markdown",
   "metadata": {},
   "source": [
    "Did not exclude any features with low variability since there are only 8 features left."
   ]
  },
  {
   "cell_type": "code",
   "execution_count": 7,
   "metadata": {},
   "outputs": [
    {
     "name": "stdout",
     "output_type": "stream",
     "text": [
      "(17379, 8) (13903, 8) (3476, 8)\n"
     ]
    }
   ],
   "source": [
    "train = data_clean.sample(frac = 0.8, random_state = 1)\n",
    "test = data_clean.loc[~bike_rentals.index.isin(train.index)]\n",
    "\n",
    "print(data_clean.shape, train.shape, test.shape)"
   ]
  },
  {
   "cell_type": "code",
   "execution_count": 8,
   "metadata": {},
   "outputs": [
    {
     "name": "stdout",
     "output_type": "stream",
     "text": [
      "131.34007420427565\n",
      "[-125.59959414  127.80433685  120.73059728   57.20115546   78.62480824]\n",
      "0      16\n",
      "14    106\n",
      "15    110\n",
      "18     35\n",
      "20     36\n",
      "Name: cnt, dtype: int64\n"
     ]
    }
   ],
   "source": [
    "features = data_clean.drop('cnt', axis = 1).columns\n",
    "\n",
    "from sklearn.linear_model import LinearRegression\n",
    "\n",
    "lm = LinearRegression()\n",
    "lm.fit(train[features], train['cnt'])\n",
    "predictions = lm.predict(test[features])\n",
    "\n",
    "from sklearn.metrics import mean_squared_error\n",
    "mse = mean_squared_error(predictions, test['cnt'])**(1/2)\n",
    "print(mse)\n",
    "print(predictions[0:5])\n",
    "print(test['cnt'].head())"
   ]
  },
  {
   "cell_type": "markdown",
   "metadata": {},
   "source": [
    "The mse is high, the turnout of this model does not look good. The prediction value can be negative at some points, too, which is not good."
   ]
  },
  {
   "cell_type": "code",
   "execution_count": 9,
   "metadata": {},
   "outputs": [
    {
     "name": "stdout",
     "output_type": "stream",
     "text": [
      "113.17669685228974\n",
      "[39. 94. 75. 37. 89.]\n",
      "0      16\n",
      "14    106\n",
      "15    110\n",
      "18     35\n",
      "20     36\n",
      "Name: cnt, dtype: int64\n"
     ]
    }
   ],
   "source": [
    "from sklearn.tree import DecisionTreeRegressor\n",
    "\n",
    "dt = DecisionTreeRegressor()\n",
    "dt.fit(train[features], train['cnt'])\n",
    "predictions = dt.predict(test[features])\n",
    "\n",
    "mse = mean_squared_error(predictions, test['cnt'])**(1/2)\n",
    "print(mse)\n",
    "print(predictions[0:5])\n",
    "print(test['cnt'].head())"
   ]
  },
  {
   "cell_type": "code",
   "execution_count": 10,
   "metadata": {},
   "outputs": [
    {
     "name": "stdout",
     "output_type": "stream",
     "text": [
      "98.36800083565161\n",
      "[ 30.66666667 118.25        70.         129.          83.5       ]\n",
      "0      16\n",
      "14    106\n",
      "15    110\n",
      "18     35\n",
      "20     36\n",
      "Name: cnt, dtype: int64\n"
     ]
    }
   ],
   "source": [
    "dt = DecisionTreeRegressor(min_samples_leaf = 3)\n",
    "dt.fit(train[features], train['cnt'])\n",
    "predictions = dt.predict(test[features])\n",
    "\n",
    "mse = mean_squared_error(predictions, test['cnt'])**(1/2)\n",
    "print(mse)\n",
    "print(predictions[0:5])\n",
    "print(test['cnt'].head())"
   ]
  },
  {
   "cell_type": "code",
   "execution_count": 11,
   "metadata": {},
   "outputs": [
    {
     "name": "stdout",
     "output_type": "stream",
     "text": [
      "92.1967091854542\n",
      "[ 22.83333333 176.55555556 115.03389831 103.16666667  69.48571429]\n",
      "0      16\n",
      "14    106\n",
      "15    110\n",
      "18     35\n",
      "20     36\n",
      "Name: cnt, dtype: int64\n"
     ]
    }
   ],
   "source": [
    "dt = DecisionTreeRegressor(min_samples_leaf = 4, max_depth = 9)\n",
    "dt.fit(train[features], train['cnt'])\n",
    "predictions = dt.predict(test[features])\n",
    "\n",
    "mse = mean_squared_error(predictions, test['cnt'])**(1/2)\n",
    "print(mse)\n",
    "print(predictions[0:5])\n",
    "print(test['cnt'].head())"
   ]
  },
  {
   "cell_type": "markdown",
   "metadata": {},
   "source": [
    "The mse is a lot smaller than the model from linear regression. The predicted values looked more reasonable. After adjusting parameters in the decision tree regressor, I realized that min_sample_leaf = 4 and max_depth = 9 yields the best result"
   ]
  },
  {
   "cell_type": "code",
   "execution_count": 12,
   "metadata": {},
   "outputs": [
    {
     "name": "stderr",
     "output_type": "stream",
     "text": [
      "/Users/sitanlydiayan/anaconda3/lib/python3.7/site-packages/sklearn/ensemble/forest.py:246: FutureWarning: The default value of n_estimators will change from 10 in version 0.20 to 100 in 0.22.\n",
      "  \"10 in version 0.20 to 100 in 0.22.\", FutureWarning)\n"
     ]
    },
    {
     "name": "stdout",
     "output_type": "stream",
     "text": [
      "92.93921502030746\n",
      "[ 31.6 113.6  98.   69.1  77.3]\n",
      "0      16\n",
      "14    106\n",
      "15    110\n",
      "18     35\n",
      "20     36\n",
      "Name: cnt, dtype: int64\n"
     ]
    }
   ],
   "source": [
    "from sklearn.ensemble import RandomForestRegressor\n",
    "rf = RandomForestRegressor()\n",
    "\n",
    "rf.fit(train[features], train['cnt'])\n",
    "predictions = rf.predict(test[features])\n",
    "\n",
    "mse = mean_squared_error(predictions, test['cnt'])**(1/2)\n",
    "print(mse)\n",
    "print(predictions[0:5])\n",
    "print(test['cnt'].head())"
   ]
  },
  {
   "cell_type": "code",
   "execution_count": 13,
   "metadata": {},
   "outputs": [
    {
     "name": "stderr",
     "output_type": "stream",
     "text": [
      "/Users/sitanlydiayan/anaconda3/lib/python3.7/site-packages/sklearn/ensemble/forest.py:246: FutureWarning: The default value of n_estimators will change from 10 in version 0.20 to 100 in 0.22.\n",
      "  \"10 in version 0.20 to 100 in 0.22.\", FutureWarning)\n"
     ]
    },
    {
     "name": "stdout",
     "output_type": "stream",
     "text": [
      "89.0550367082277\n",
      "[ 22.15357143 120.8825     112.7775      74.53589744  64.35357143]\n",
      "0      16\n",
      "14    106\n",
      "15    110\n",
      "18     35\n",
      "20     36\n",
      "Name: cnt, dtype: int64\n"
     ]
    }
   ],
   "source": [
    "rf = RandomForestRegressor(min_samples_split = 6)\n",
    "\n",
    "rf.fit(train[features], train['cnt'])\n",
    "predictions = rf.predict(test[features])\n",
    "\n",
    "mse = mean_squared_error(predictions, test['cnt'])**(1/2)\n",
    "print(mse)\n",
    "print(predictions[0:5])\n",
    "print(test['cnt'].head())"
   ]
  },
  {
   "cell_type": "markdown",
   "metadata": {},
   "source": [
    "Random Forest had lowese MSE"
   ]
  }
 ],
 "metadata": {
  "kernelspec": {
   "display_name": "Python 3",
   "language": "python",
   "name": "python3"
  },
  "language_info": {
   "codemirror_mode": {
    "name": "ipython",
    "version": 3
   },
   "file_extension": ".py",
   "mimetype": "text/x-python",
   "name": "python",
   "nbconvert_exporter": "python",
   "pygments_lexer": "ipython3",
   "version": "3.7.3"
  }
 },
 "nbformat": 4,
 "nbformat_minor": 2
}
